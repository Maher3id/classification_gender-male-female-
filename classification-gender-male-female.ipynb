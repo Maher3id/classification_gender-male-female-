{
 "cells": [
  {
   "cell_type": "markdown",
   "id": "f3511db8",
   "metadata": {
    "papermill": {
     "duration": 0.053567,
     "end_time": "2022-04-18T00:03:22.231401",
     "exception": false,
     "start_time": "2022-04-18T00:03:22.177834",
     "status": "completed"
    },
    "tags": []
   },
   "source": [
    "# import libraries\n",
    "# read the data"
   ]
  },
  {
   "cell_type": "code",
   "execution_count": 1,
   "id": "11c4d969",
   "metadata": {
    "execution": {
     "iopub.execute_input": "2022-04-18T00:03:22.346643Z",
     "iopub.status.busy": "2022-04-18T00:03:22.345433Z",
     "iopub.status.idle": "2022-04-18T00:03:22.397492Z",
     "shell.execute_reply": "2022-04-18T00:03:22.398130Z",
     "shell.execute_reply.started": "2022-04-18T00:01:50.817342Z"
    },
    "papermill": {
     "duration": 0.109344,
     "end_time": "2022-04-18T00:03:22.398453",
     "exception": false,
     "start_time": "2022-04-18T00:03:22.289109",
     "status": "completed"
    },
    "tags": []
   },
   "outputs": [
    {
     "data": {
      "text/html": [
       "<div>\n",
       "<style scoped>\n",
       "    .dataframe tbody tr th:only-of-type {\n",
       "        vertical-align: middle;\n",
       "    }\n",
       "\n",
       "    .dataframe tbody tr th {\n",
       "        vertical-align: top;\n",
       "    }\n",
       "\n",
       "    .dataframe thead th {\n",
       "        text-align: right;\n",
       "    }\n",
       "</style>\n",
       "<table border=\"1\" class=\"dataframe\">\n",
       "  <thead>\n",
       "    <tr style=\"text-align: right;\">\n",
       "      <th></th>\n",
       "      <th>long_hair</th>\n",
       "      <th>forehead_width_cm</th>\n",
       "      <th>forehead_height_cm</th>\n",
       "      <th>nose_wide</th>\n",
       "      <th>nose_long</th>\n",
       "      <th>lips_thin</th>\n",
       "      <th>distance_nose_to_lip_long</th>\n",
       "      <th>gender</th>\n",
       "    </tr>\n",
       "  </thead>\n",
       "  <tbody>\n",
       "    <tr>\n",
       "      <th>0</th>\n",
       "      <td>1</td>\n",
       "      <td>11.8</td>\n",
       "      <td>6.1</td>\n",
       "      <td>1</td>\n",
       "      <td>0</td>\n",
       "      <td>1</td>\n",
       "      <td>1</td>\n",
       "      <td>Male</td>\n",
       "    </tr>\n",
       "    <tr>\n",
       "      <th>1</th>\n",
       "      <td>0</td>\n",
       "      <td>14.0</td>\n",
       "      <td>5.4</td>\n",
       "      <td>0</td>\n",
       "      <td>0</td>\n",
       "      <td>1</td>\n",
       "      <td>0</td>\n",
       "      <td>Female</td>\n",
       "    </tr>\n",
       "    <tr>\n",
       "      <th>2</th>\n",
       "      <td>0</td>\n",
       "      <td>11.8</td>\n",
       "      <td>6.3</td>\n",
       "      <td>1</td>\n",
       "      <td>1</td>\n",
       "      <td>1</td>\n",
       "      <td>1</td>\n",
       "      <td>Male</td>\n",
       "    </tr>\n",
       "    <tr>\n",
       "      <th>3</th>\n",
       "      <td>0</td>\n",
       "      <td>14.4</td>\n",
       "      <td>6.1</td>\n",
       "      <td>0</td>\n",
       "      <td>1</td>\n",
       "      <td>1</td>\n",
       "      <td>1</td>\n",
       "      <td>Male</td>\n",
       "    </tr>\n",
       "    <tr>\n",
       "      <th>4</th>\n",
       "      <td>1</td>\n",
       "      <td>13.5</td>\n",
       "      <td>5.9</td>\n",
       "      <td>0</td>\n",
       "      <td>0</td>\n",
       "      <td>0</td>\n",
       "      <td>0</td>\n",
       "      <td>Female</td>\n",
       "    </tr>\n",
       "  </tbody>\n",
       "</table>\n",
       "</div>"
      ],
      "text/plain": [
       "   long_hair  forehead_width_cm  forehead_height_cm  nose_wide  nose_long  \\\n",
       "0          1               11.8                 6.1          1          0   \n",
       "1          0               14.0                 5.4          0          0   \n",
       "2          0               11.8                 6.3          1          1   \n",
       "3          0               14.4                 6.1          0          1   \n",
       "4          1               13.5                 5.9          0          0   \n",
       "\n",
       "   lips_thin  distance_nose_to_lip_long  gender  \n",
       "0          1                          1    Male  \n",
       "1          1                          0  Female  \n",
       "2          1                          1    Male  \n",
       "3          1                          1    Male  \n",
       "4          0                          0  Female  "
      ]
     },
     "execution_count": 1,
     "metadata": {},
     "output_type": "execute_result"
    }
   ],
   "source": [
    "import pandas as pd\n",
    "data=pd.read_csv('../input/gender/classification_gender.csv')\n",
    "data.head()"
   ]
  },
  {
   "cell_type": "markdown",
   "id": "46e90025",
   "metadata": {
    "papermill": {
     "duration": 0.056097,
     "end_time": "2022-04-18T00:03:22.508569",
     "exception": false,
     "start_time": "2022-04-18T00:03:22.452472",
     "status": "completed"
    },
    "tags": []
   },
   "source": [
    "# Shape of train and test"
   ]
  },
  {
   "cell_type": "code",
   "execution_count": 2,
   "id": "eafdf639",
   "metadata": {
    "execution": {
     "iopub.execute_input": "2022-04-18T00:03:22.628702Z",
     "iopub.status.busy": "2022-04-18T00:03:22.627192Z",
     "iopub.status.idle": "2022-04-18T00:03:22.632181Z",
     "shell.execute_reply": "2022-04-18T00:03:22.632731Z",
     "shell.execute_reply.started": "2022-04-18T00:01:50.888312Z"
    },
    "papermill": {
     "duration": 0.066683,
     "end_time": "2022-04-18T00:03:22.632908",
     "exception": false,
     "start_time": "2022-04-18T00:03:22.566225",
     "status": "completed"
    },
    "tags": []
   },
   "outputs": [
    {
     "name": "stdout",
     "output_type": "stream",
     "text": [
      "There are 5001 rows and 8 columns in train\n"
     ]
    }
   ],
   "source": [
    "print('There are {} rows and {} columns in train'.format(data.shape[0],data.shape[1]))"
   ]
  },
  {
   "cell_type": "markdown",
   "id": "653b6b29",
   "metadata": {
    "papermill": {
     "duration": 0.056265,
     "end_time": "2022-04-18T00:03:22.743989",
     "exception": false,
     "start_time": "2022-04-18T00:03:22.687724",
     "status": "completed"
    },
    "tags": []
   },
   "source": [
    "# The column labels of the DataFrame.\n"
   ]
  },
  {
   "cell_type": "code",
   "execution_count": 3,
   "id": "69e27bac",
   "metadata": {
    "execution": {
     "iopub.execute_input": "2022-04-18T00:03:22.862457Z",
     "iopub.status.busy": "2022-04-18T00:03:22.859319Z",
     "iopub.status.idle": "2022-04-18T00:03:22.865804Z",
     "shell.execute_reply": "2022-04-18T00:03:22.866398Z",
     "shell.execute_reply.started": "2022-04-18T00:01:50.924100Z"
    },
    "papermill": {
     "duration": 0.066957,
     "end_time": "2022-04-18T00:03:22.866589",
     "exception": false,
     "start_time": "2022-04-18T00:03:22.799632",
     "status": "completed"
    },
    "tags": []
   },
   "outputs": [
    {
     "data": {
      "text/plain": [
       "Index(['long_hair', 'forehead_width_cm', 'forehead_height_cm', 'nose_wide',\n",
       "       'nose_long', 'lips_thin', 'distance_nose_to_lip_long', 'gender'],\n",
       "      dtype='object')"
      ]
     },
     "execution_count": 3,
     "metadata": {},
     "output_type": "execute_result"
    }
   ],
   "source": [
    "data.columns"
   ]
  },
  {
   "cell_type": "markdown",
   "id": "fa8b497b",
   "metadata": {
    "papermill": {
     "duration": 0.055753,
     "end_time": "2022-04-18T00:03:22.977812",
     "exception": false,
     "start_time": "2022-04-18T00:03:22.922059",
     "status": "completed"
    },
    "tags": []
   },
   "source": [
    "# Return the dtypes in the DataFrame."
   ]
  },
  {
   "cell_type": "code",
   "execution_count": 4,
   "id": "742406a5",
   "metadata": {
    "execution": {
     "iopub.execute_input": "2022-04-18T00:03:23.099824Z",
     "iopub.status.busy": "2022-04-18T00:03:23.099113Z",
     "iopub.status.idle": "2022-04-18T00:03:23.102124Z",
     "shell.execute_reply": "2022-04-18T00:03:23.102647Z",
     "shell.execute_reply.started": "2022-04-18T00:01:50.978024Z"
    },
    "papermill": {
     "duration": 0.068635,
     "end_time": "2022-04-18T00:03:23.102828",
     "exception": false,
     "start_time": "2022-04-18T00:03:23.034193",
     "status": "completed"
    },
    "tags": []
   },
   "outputs": [
    {
     "data": {
      "text/plain": [
       "long_hair                      int64\n",
       "forehead_width_cm            float64\n",
       "forehead_height_cm           float64\n",
       "nose_wide                      int64\n",
       "nose_long                      int64\n",
       "lips_thin                      int64\n",
       "distance_nose_to_lip_long      int64\n",
       "gender                        object\n",
       "dtype: object"
      ]
     },
     "execution_count": 4,
     "metadata": {},
     "output_type": "execute_result"
    }
   ],
   "source": [
    "data.dtypes"
   ]
  },
  {
   "cell_type": "markdown",
   "id": "b7d7dd09",
   "metadata": {
    "papermill": {
     "duration": 0.055741,
     "end_time": "2022-04-18T00:03:23.214030",
     "exception": false,
     "start_time": "2022-04-18T00:03:23.158289",
     "status": "completed"
    },
    "tags": []
   },
   "source": [
    "# a concise summary of a DataFrame.\n",
    "\n"
   ]
  },
  {
   "cell_type": "code",
   "execution_count": 5,
   "id": "fe1c098f",
   "metadata": {
    "execution": {
     "iopub.execute_input": "2022-04-18T00:03:23.344537Z",
     "iopub.status.busy": "2022-04-18T00:03:23.343692Z",
     "iopub.status.idle": "2022-04-18T00:03:23.348917Z",
     "shell.execute_reply": "2022-04-18T00:03:23.348294Z",
     "shell.execute_reply.started": "2022-04-18T00:01:51.033813Z"
    },
    "papermill": {
     "duration": 0.078001,
     "end_time": "2022-04-18T00:03:23.349086",
     "exception": false,
     "start_time": "2022-04-18T00:03:23.271085",
     "status": "completed"
    },
    "tags": []
   },
   "outputs": [
    {
     "data": {
      "text/plain": [
       "<bound method DataFrame.info of       long_hair  forehead_width_cm  forehead_height_cm  nose_wide  nose_long  \\\n",
       "0             1               11.8                 6.1          1          0   \n",
       "1             0               14.0                 5.4          0          0   \n",
       "2             0               11.8                 6.3          1          1   \n",
       "3             0               14.4                 6.1          0          1   \n",
       "4             1               13.5                 5.9          0          0   \n",
       "...         ...                ...                 ...        ...        ...   \n",
       "4996          1               13.6                 5.1          0          0   \n",
       "4997          1               11.9                 5.4          0          0   \n",
       "4998          1               12.9                 5.7          0          0   \n",
       "4999          1               13.2                 6.2          0          0   \n",
       "5000          1               15.4                 5.4          1          1   \n",
       "\n",
       "      lips_thin  distance_nose_to_lip_long  gender  \n",
       "0             1                          1    Male  \n",
       "1             1                          0  Female  \n",
       "2             1                          1    Male  \n",
       "3             1                          1    Male  \n",
       "4             0                          0  Female  \n",
       "...         ...                        ...     ...  \n",
       "4996          0                          0  Female  \n",
       "4997          0                          0  Female  \n",
       "4998          0                          0  Female  \n",
       "4999          0                          0  Female  \n",
       "5000          1                          1    Male  \n",
       "\n",
       "[5001 rows x 8 columns]>"
      ]
     },
     "execution_count": 5,
     "metadata": {},
     "output_type": "execute_result"
    }
   ],
   "source": [
    "data.info"
   ]
  },
  {
   "cell_type": "markdown",
   "id": "985f8cbd",
   "metadata": {
    "papermill": {
     "duration": 0.054102,
     "end_time": "2022-04-18T00:03:23.460017",
     "exception": false,
     "start_time": "2022-04-18T00:03:23.405915",
     "status": "completed"
    },
    "tags": []
   },
   "source": [
    "# return the mean of the values for the requested axis."
   ]
  },
  {
   "cell_type": "code",
   "execution_count": 6,
   "id": "9424a0b0",
   "metadata": {
    "execution": {
     "iopub.execute_input": "2022-04-18T00:03:23.578808Z",
     "iopub.status.busy": "2022-04-18T00:03:23.577784Z",
     "iopub.status.idle": "2022-04-18T00:03:23.593562Z",
     "shell.execute_reply": "2022-04-18T00:03:23.591951Z",
     "shell.execute_reply.started": "2022-04-18T00:01:51.084684Z"
    },
    "papermill": {
     "duration": 0.077018,
     "end_time": "2022-04-18T00:03:23.593858",
     "exception": false,
     "start_time": "2022-04-18T00:03:23.516840",
     "status": "completed"
    },
    "tags": []
   },
   "outputs": [
    {
     "name": "stderr",
     "output_type": "stream",
     "text": [
      "/opt/conda/lib/python3.7/site-packages/ipykernel_launcher.py:1: FutureWarning: Dropping of nuisance columns in DataFrame reductions (with 'numeric_only=None') is deprecated; in a future version this will raise TypeError.  Select only valid columns before calling the reduction.\n",
      "  \"\"\"Entry point for launching an IPython kernel.\n"
     ]
    },
    {
     "data": {
      "text/plain": [
       "long_hair                     0.869626\n",
       "forehead_width_cm            13.181484\n",
       "forehead_height_cm            5.946311\n",
       "nose_wide                     0.493901\n",
       "nose_long                     0.507898\n",
       "lips_thin                     0.493101\n",
       "distance_nose_to_lip_long     0.498900\n",
       "dtype: float64"
      ]
     },
     "execution_count": 6,
     "metadata": {},
     "output_type": "execute_result"
    }
   ],
   "source": [
    "data.mean()"
   ]
  },
  {
   "cell_type": "markdown",
   "id": "b983f6b5",
   "metadata": {
    "papermill": {
     "duration": 0.056738,
     "end_time": "2022-04-18T00:03:23.707775",
     "exception": false,
     "start_time": "2022-04-18T00:03:23.651037",
     "status": "completed"
    },
    "tags": []
   },
   "source": [
    "# Return sample standard deviation over requested axis.  "
   ]
  },
  {
   "cell_type": "code",
   "execution_count": 7,
   "id": "f0580f49",
   "metadata": {
    "execution": {
     "iopub.execute_input": "2022-04-18T00:03:23.833132Z",
     "iopub.status.busy": "2022-04-18T00:03:23.832299Z",
     "iopub.status.idle": "2022-04-18T00:03:23.836841Z",
     "shell.execute_reply": "2022-04-18T00:03:23.837583Z",
     "shell.execute_reply.started": "2022-04-18T00:01:51.140557Z"
    },
    "papermill": {
     "duration": 0.072207,
     "end_time": "2022-04-18T00:03:23.837802",
     "exception": false,
     "start_time": "2022-04-18T00:03:23.765595",
     "status": "completed"
    },
    "tags": []
   },
   "outputs": [
    {
     "name": "stderr",
     "output_type": "stream",
     "text": [
      "/opt/conda/lib/python3.7/site-packages/ipykernel_launcher.py:1: FutureWarning: Dropping of nuisance columns in DataFrame reductions (with 'numeric_only=None') is deprecated; in a future version this will raise TypeError.  Select only valid columns before calling the reduction.\n",
      "  \"\"\"Entry point for launching an IPython kernel.\n"
     ]
    },
    {
     "data": {
      "text/plain": [
       "long_hair                    0.336748\n",
       "forehead_width_cm            1.107128\n",
       "forehead_height_cm           0.541268\n",
       "nose_wide                    0.500013\n",
       "nose_long                    0.499988\n",
       "lips_thin                    0.500002\n",
       "distance_nose_to_lip_long    0.500049\n",
       "dtype: float64"
      ]
     },
     "execution_count": 7,
     "metadata": {},
     "output_type": "execute_result"
    }
   ],
   "source": [
    "data.std()"
   ]
  },
  {
   "cell_type": "markdown",
   "id": "68f757c6",
   "metadata": {
    "papermill": {
     "duration": 0.05907,
     "end_time": "2022-04-18T00:03:23.958577",
     "exception": false,
     "start_time": "2022-04-18T00:03:23.899507",
     "status": "completed"
    },
    "tags": []
   },
   "source": [
    "# Compute pairwise correlation of columns, excluding NA/null values.\n",
    "\n"
   ]
  },
  {
   "cell_type": "code",
   "execution_count": 8,
   "id": "1a7f03af",
   "metadata": {
    "execution": {
     "iopub.execute_input": "2022-04-18T00:03:24.085914Z",
     "iopub.status.busy": "2022-04-18T00:03:24.085110Z",
     "iopub.status.idle": "2022-04-18T00:03:24.101865Z",
     "shell.execute_reply": "2022-04-18T00:03:24.102756Z",
     "shell.execute_reply.started": "2022-04-18T00:01:51.189420Z"
    },
    "papermill": {
     "duration": 0.083358,
     "end_time": "2022-04-18T00:03:24.103015",
     "exception": false,
     "start_time": "2022-04-18T00:03:24.019657",
     "status": "completed"
    },
    "tags": []
   },
   "outputs": [
    {
     "data": {
      "text/html": [
       "<div>\n",
       "<style scoped>\n",
       "    .dataframe tbody tr th:only-of-type {\n",
       "        vertical-align: middle;\n",
       "    }\n",
       "\n",
       "    .dataframe tbody tr th {\n",
       "        vertical-align: top;\n",
       "    }\n",
       "\n",
       "    .dataframe thead th {\n",
       "        text-align: right;\n",
       "    }\n",
       "</style>\n",
       "<table border=\"1\" class=\"dataframe\">\n",
       "  <thead>\n",
       "    <tr style=\"text-align: right;\">\n",
       "      <th></th>\n",
       "      <th>long_hair</th>\n",
       "      <th>forehead_width_cm</th>\n",
       "      <th>forehead_height_cm</th>\n",
       "      <th>nose_wide</th>\n",
       "      <th>nose_long</th>\n",
       "      <th>lips_thin</th>\n",
       "      <th>distance_nose_to_lip_long</th>\n",
       "    </tr>\n",
       "  </thead>\n",
       "  <tbody>\n",
       "    <tr>\n",
       "      <th>long_hair</th>\n",
       "      <td>1.000000</td>\n",
       "      <td>-0.006530</td>\n",
       "      <td>-0.017233</td>\n",
       "      <td>0.001216</td>\n",
       "      <td>0.014432</td>\n",
       "      <td>0.011287</td>\n",
       "      <td>-0.025794</td>\n",
       "    </tr>\n",
       "    <tr>\n",
       "      <th>forehead_width_cm</th>\n",
       "      <td>-0.006530</td>\n",
       "      <td>1.000000</td>\n",
       "      <td>0.088596</td>\n",
       "      <td>0.251648</td>\n",
       "      <td>0.257368</td>\n",
       "      <td>0.258564</td>\n",
       "      <td>0.251328</td>\n",
       "    </tr>\n",
       "    <tr>\n",
       "      <th>forehead_height_cm</th>\n",
       "      <td>-0.017233</td>\n",
       "      <td>0.088596</td>\n",
       "      <td>1.000000</td>\n",
       "      <td>0.211655</td>\n",
       "      <td>0.194120</td>\n",
       "      <td>0.205441</td>\n",
       "      <td>0.215292</td>\n",
       "    </tr>\n",
       "    <tr>\n",
       "      <th>nose_wide</th>\n",
       "      <td>0.001216</td>\n",
       "      <td>0.251648</td>\n",
       "      <td>0.211655</td>\n",
       "      <td>1.000000</td>\n",
       "      <td>0.565192</td>\n",
       "      <td>0.557615</td>\n",
       "      <td>0.569303</td>\n",
       "    </tr>\n",
       "    <tr>\n",
       "      <th>nose_long</th>\n",
       "      <td>0.014432</td>\n",
       "      <td>0.257368</td>\n",
       "      <td>0.194120</td>\n",
       "      <td>0.565192</td>\n",
       "      <td>1.000000</td>\n",
       "      <td>0.561229</td>\n",
       "      <td>0.559794</td>\n",
       "    </tr>\n",
       "    <tr>\n",
       "      <th>lips_thin</th>\n",
       "      <td>0.011287</td>\n",
       "      <td>0.258564</td>\n",
       "      <td>0.205441</td>\n",
       "      <td>0.557615</td>\n",
       "      <td>0.561229</td>\n",
       "      <td>1.000000</td>\n",
       "      <td>0.565312</td>\n",
       "    </tr>\n",
       "    <tr>\n",
       "      <th>distance_nose_to_lip_long</th>\n",
       "      <td>-0.025794</td>\n",
       "      <td>0.251328</td>\n",
       "      <td>0.215292</td>\n",
       "      <td>0.569303</td>\n",
       "      <td>0.559794</td>\n",
       "      <td>0.565312</td>\n",
       "      <td>1.000000</td>\n",
       "    </tr>\n",
       "  </tbody>\n",
       "</table>\n",
       "</div>"
      ],
      "text/plain": [
       "                           long_hair  forehead_width_cm  forehead_height_cm  \\\n",
       "long_hair                   1.000000          -0.006530           -0.017233   \n",
       "forehead_width_cm          -0.006530           1.000000            0.088596   \n",
       "forehead_height_cm         -0.017233           0.088596            1.000000   \n",
       "nose_wide                   0.001216           0.251648            0.211655   \n",
       "nose_long                   0.014432           0.257368            0.194120   \n",
       "lips_thin                   0.011287           0.258564            0.205441   \n",
       "distance_nose_to_lip_long  -0.025794           0.251328            0.215292   \n",
       "\n",
       "                           nose_wide  nose_long  lips_thin  \\\n",
       "long_hair                   0.001216   0.014432   0.011287   \n",
       "forehead_width_cm           0.251648   0.257368   0.258564   \n",
       "forehead_height_cm          0.211655   0.194120   0.205441   \n",
       "nose_wide                   1.000000   0.565192   0.557615   \n",
       "nose_long                   0.565192   1.000000   0.561229   \n",
       "lips_thin                   0.557615   0.561229   1.000000   \n",
       "distance_nose_to_lip_long   0.569303   0.559794   0.565312   \n",
       "\n",
       "                           distance_nose_to_lip_long  \n",
       "long_hair                                  -0.025794  \n",
       "forehead_width_cm                           0.251328  \n",
       "forehead_height_cm                          0.215292  \n",
       "nose_wide                                   0.569303  \n",
       "nose_long                                   0.559794  \n",
       "lips_thin                                   0.565312  \n",
       "distance_nose_to_lip_long                   1.000000  "
      ]
     },
     "execution_count": 8,
     "metadata": {},
     "output_type": "execute_result"
    }
   ],
   "source": [
    "data.corr()"
   ]
  },
  {
   "cell_type": "markdown",
   "id": "c245fd13",
   "metadata": {
    "papermill": {
     "duration": 0.057385,
     "end_time": "2022-04-18T00:03:24.220165",
     "exception": false,
     "start_time": "2022-04-18T00:03:24.162780",
     "status": "completed"
    },
    "tags": []
   },
   "source": [
    "# Return the maximum of the values over the requested axis.\n",
    "\n"
   ]
  },
  {
   "cell_type": "code",
   "execution_count": 9,
   "id": "fe484e14",
   "metadata": {
    "execution": {
     "iopub.execute_input": "2022-04-18T00:03:24.344069Z",
     "iopub.status.busy": "2022-04-18T00:03:24.342242Z",
     "iopub.status.idle": "2022-04-18T00:03:24.351651Z",
     "shell.execute_reply": "2022-04-18T00:03:24.352201Z",
     "shell.execute_reply.started": "2022-04-18T00:01:51.217878Z"
    },
    "papermill": {
     "duration": 0.073548,
     "end_time": "2022-04-18T00:03:24.352422",
     "exception": false,
     "start_time": "2022-04-18T00:03:24.278874",
     "status": "completed"
    },
    "tags": []
   },
   "outputs": [
    {
     "data": {
      "text/plain": [
       "long_hair                       1\n",
       "forehead_width_cm            15.5\n",
       "forehead_height_cm            7.1\n",
       "nose_wide                       1\n",
       "nose_long                       1\n",
       "lips_thin                       1\n",
       "distance_nose_to_lip_long       1\n",
       "gender                       Male\n",
       "dtype: object"
      ]
     },
     "execution_count": 9,
     "metadata": {},
     "output_type": "execute_result"
    }
   ],
   "source": [
    "data.max()"
   ]
  },
  {
   "cell_type": "markdown",
   "id": "03988405",
   "metadata": {
    "papermill": {
     "duration": 0.058507,
     "end_time": "2022-04-18T00:03:24.471047",
     "exception": false,
     "start_time": "2022-04-18T00:03:24.412540",
     "status": "completed"
    },
    "tags": []
   },
   "source": [
    "# Return the minimum of the values over the requested axis.\n",
    "\n"
   ]
  },
  {
   "cell_type": "code",
   "execution_count": 10,
   "id": "d7f0877e",
   "metadata": {
    "execution": {
     "iopub.execute_input": "2022-04-18T00:03:24.598806Z",
     "iopub.status.busy": "2022-04-18T00:03:24.598033Z",
     "iopub.status.idle": "2022-04-18T00:03:24.607649Z",
     "shell.execute_reply": "2022-04-18T00:03:24.607014Z",
     "shell.execute_reply.started": "2022-04-18T00:01:51.256360Z"
    },
    "papermill": {
     "duration": 0.074781,
     "end_time": "2022-04-18T00:03:24.607803",
     "exception": false,
     "start_time": "2022-04-18T00:03:24.533022",
     "status": "completed"
    },
    "tags": []
   },
   "outputs": [
    {
     "data": {
      "text/plain": [
       "long_hair                         0\n",
       "forehead_width_cm              11.4\n",
       "forehead_height_cm              5.1\n",
       "nose_wide                         0\n",
       "nose_long                         0\n",
       "lips_thin                         0\n",
       "distance_nose_to_lip_long         0\n",
       "gender                       Female\n",
       "dtype: object"
      ]
     },
     "execution_count": 10,
     "metadata": {},
     "output_type": "execute_result"
    }
   ],
   "source": [
    "data.min()"
   ]
  },
  {
   "cell_type": "markdown",
   "id": "f8692909",
   "metadata": {
    "papermill": {
     "duration": 0.058998,
     "end_time": "2022-04-18T00:03:24.726250",
     "exception": false,
     "start_time": "2022-04-18T00:03:24.667252",
     "status": "completed"
    },
    "tags": []
   },
   "source": [
    "# Generate descriptive statistics from data\n",
    "# ‘all’ : All columns of the input will be included in the output"
   ]
  },
  {
   "cell_type": "code",
   "execution_count": 11,
   "id": "908b9882",
   "metadata": {
    "execution": {
     "iopub.execute_input": "2022-04-18T00:03:24.854889Z",
     "iopub.status.busy": "2022-04-18T00:03:24.854174Z",
     "iopub.status.idle": "2022-04-18T00:03:24.895918Z",
     "shell.execute_reply": "2022-04-18T00:03:24.896448Z",
     "shell.execute_reply.started": "2022-04-18T00:01:51.316793Z"
    },
    "papermill": {
     "duration": 0.111053,
     "end_time": "2022-04-18T00:03:24.896626",
     "exception": false,
     "start_time": "2022-04-18T00:03:24.785573",
     "status": "completed"
    },
    "tags": []
   },
   "outputs": [
    {
     "data": {
      "text/html": [
       "<div>\n",
       "<style scoped>\n",
       "    .dataframe tbody tr th:only-of-type {\n",
       "        vertical-align: middle;\n",
       "    }\n",
       "\n",
       "    .dataframe tbody tr th {\n",
       "        vertical-align: top;\n",
       "    }\n",
       "\n",
       "    .dataframe thead th {\n",
       "        text-align: right;\n",
       "    }\n",
       "</style>\n",
       "<table border=\"1\" class=\"dataframe\">\n",
       "  <thead>\n",
       "    <tr style=\"text-align: right;\">\n",
       "      <th></th>\n",
       "      <th>count</th>\n",
       "      <th>unique</th>\n",
       "      <th>top</th>\n",
       "      <th>freq</th>\n",
       "      <th>mean</th>\n",
       "      <th>std</th>\n",
       "      <th>min</th>\n",
       "      <th>25%</th>\n",
       "      <th>50%</th>\n",
       "      <th>75%</th>\n",
       "      <th>max</th>\n",
       "    </tr>\n",
       "  </thead>\n",
       "  <tbody>\n",
       "    <tr>\n",
       "      <th>long_hair</th>\n",
       "      <td>5001.0</td>\n",
       "      <td>NaN</td>\n",
       "      <td>NaN</td>\n",
       "      <td>NaN</td>\n",
       "      <td>0.869626</td>\n",
       "      <td>0.336748</td>\n",
       "      <td>0.0</td>\n",
       "      <td>1.0</td>\n",
       "      <td>1.0</td>\n",
       "      <td>1.0</td>\n",
       "      <td>1.0</td>\n",
       "    </tr>\n",
       "    <tr>\n",
       "      <th>forehead_width_cm</th>\n",
       "      <td>5001.0</td>\n",
       "      <td>NaN</td>\n",
       "      <td>NaN</td>\n",
       "      <td>NaN</td>\n",
       "      <td>13.181484</td>\n",
       "      <td>1.107128</td>\n",
       "      <td>11.4</td>\n",
       "      <td>12.2</td>\n",
       "      <td>13.1</td>\n",
       "      <td>14.0</td>\n",
       "      <td>15.5</td>\n",
       "    </tr>\n",
       "    <tr>\n",
       "      <th>forehead_height_cm</th>\n",
       "      <td>5001.0</td>\n",
       "      <td>NaN</td>\n",
       "      <td>NaN</td>\n",
       "      <td>NaN</td>\n",
       "      <td>5.946311</td>\n",
       "      <td>0.541268</td>\n",
       "      <td>5.1</td>\n",
       "      <td>5.5</td>\n",
       "      <td>5.9</td>\n",
       "      <td>6.4</td>\n",
       "      <td>7.1</td>\n",
       "    </tr>\n",
       "    <tr>\n",
       "      <th>nose_wide</th>\n",
       "      <td>5001.0</td>\n",
       "      <td>NaN</td>\n",
       "      <td>NaN</td>\n",
       "      <td>NaN</td>\n",
       "      <td>0.493901</td>\n",
       "      <td>0.500013</td>\n",
       "      <td>0.0</td>\n",
       "      <td>0.0</td>\n",
       "      <td>0.0</td>\n",
       "      <td>1.0</td>\n",
       "      <td>1.0</td>\n",
       "    </tr>\n",
       "    <tr>\n",
       "      <th>nose_long</th>\n",
       "      <td>5001.0</td>\n",
       "      <td>NaN</td>\n",
       "      <td>NaN</td>\n",
       "      <td>NaN</td>\n",
       "      <td>0.507898</td>\n",
       "      <td>0.499988</td>\n",
       "      <td>0.0</td>\n",
       "      <td>0.0</td>\n",
       "      <td>1.0</td>\n",
       "      <td>1.0</td>\n",
       "      <td>1.0</td>\n",
       "    </tr>\n",
       "    <tr>\n",
       "      <th>lips_thin</th>\n",
       "      <td>5001.0</td>\n",
       "      <td>NaN</td>\n",
       "      <td>NaN</td>\n",
       "      <td>NaN</td>\n",
       "      <td>0.493101</td>\n",
       "      <td>0.500002</td>\n",
       "      <td>0.0</td>\n",
       "      <td>0.0</td>\n",
       "      <td>0.0</td>\n",
       "      <td>1.0</td>\n",
       "      <td>1.0</td>\n",
       "    </tr>\n",
       "    <tr>\n",
       "      <th>distance_nose_to_lip_long</th>\n",
       "      <td>5001.0</td>\n",
       "      <td>NaN</td>\n",
       "      <td>NaN</td>\n",
       "      <td>NaN</td>\n",
       "      <td>0.4989</td>\n",
       "      <td>0.500049</td>\n",
       "      <td>0.0</td>\n",
       "      <td>0.0</td>\n",
       "      <td>0.0</td>\n",
       "      <td>1.0</td>\n",
       "      <td>1.0</td>\n",
       "    </tr>\n",
       "    <tr>\n",
       "      <th>gender</th>\n",
       "      <td>5001</td>\n",
       "      <td>2</td>\n",
       "      <td>Female</td>\n",
       "      <td>2501</td>\n",
       "      <td>NaN</td>\n",
       "      <td>NaN</td>\n",
       "      <td>NaN</td>\n",
       "      <td>NaN</td>\n",
       "      <td>NaN</td>\n",
       "      <td>NaN</td>\n",
       "      <td>NaN</td>\n",
       "    </tr>\n",
       "  </tbody>\n",
       "</table>\n",
       "</div>"
      ],
      "text/plain": [
       "                            count unique     top  freq       mean       std  \\\n",
       "long_hair                  5001.0    NaN     NaN   NaN   0.869626  0.336748   \n",
       "forehead_width_cm          5001.0    NaN     NaN   NaN  13.181484  1.107128   \n",
       "forehead_height_cm         5001.0    NaN     NaN   NaN   5.946311  0.541268   \n",
       "nose_wide                  5001.0    NaN     NaN   NaN   0.493901  0.500013   \n",
       "nose_long                  5001.0    NaN     NaN   NaN   0.507898  0.499988   \n",
       "lips_thin                  5001.0    NaN     NaN   NaN   0.493101  0.500002   \n",
       "distance_nose_to_lip_long  5001.0    NaN     NaN   NaN     0.4989  0.500049   \n",
       "gender                       5001      2  Female  2501        NaN       NaN   \n",
       "\n",
       "                            min   25%   50%   75%   max  \n",
       "long_hair                   0.0   1.0   1.0   1.0   1.0  \n",
       "forehead_width_cm          11.4  12.2  13.1  14.0  15.5  \n",
       "forehead_height_cm          5.1   5.5   5.9   6.4   7.1  \n",
       "nose_wide                   0.0   0.0   0.0   1.0   1.0  \n",
       "nose_long                   0.0   0.0   1.0   1.0   1.0  \n",
       "lips_thin                   0.0   0.0   0.0   1.0   1.0  \n",
       "distance_nose_to_lip_long   0.0   0.0   0.0   1.0   1.0  \n",
       "gender                      NaN   NaN   NaN   NaN   NaN  "
      ]
     },
     "execution_count": 11,
     "metadata": {},
     "output_type": "execute_result"
    }
   ],
   "source": [
    "data.describe(include='all').T"
   ]
  },
  {
   "cell_type": "markdown",
   "id": "e1add1a1",
   "metadata": {
    "papermill": {
     "duration": 0.060901,
     "end_time": "2022-04-18T00:03:25.018910",
     "exception": false,
     "start_time": "2022-04-18T00:03:24.958009",
     "status": "completed"
    },
    "tags": []
   },
   "source": [
    "# Count number of distinct elements in specified axis."
   ]
  },
  {
   "cell_type": "code",
   "execution_count": 12,
   "id": "f5bcc8d0",
   "metadata": {
    "execution": {
     "iopub.execute_input": "2022-04-18T00:03:25.152452Z",
     "iopub.status.busy": "2022-04-18T00:03:25.151668Z",
     "iopub.status.idle": "2022-04-18T00:03:25.159315Z",
     "shell.execute_reply": "2022-04-18T00:03:25.158709Z",
     "shell.execute_reply.started": "2022-04-18T00:01:51.369937Z"
    },
    "papermill": {
     "duration": 0.077513,
     "end_time": "2022-04-18T00:03:25.159502",
     "exception": false,
     "start_time": "2022-04-18T00:03:25.081989",
     "status": "completed"
    },
    "tags": []
   },
   "outputs": [
    {
     "data": {
      "text/plain": [
       "long_hair                     2\n",
       "forehead_width_cm            42\n",
       "forehead_height_cm           21\n",
       "nose_wide                     2\n",
       "nose_long                     2\n",
       "lips_thin                     2\n",
       "distance_nose_to_lip_long     2\n",
       "gender                        2\n",
       "dtype: int64"
      ]
     },
     "execution_count": 12,
     "metadata": {},
     "output_type": "execute_result"
    }
   ],
   "source": [
    "data.nunique()"
   ]
  },
  {
   "cell_type": "markdown",
   "id": "8313792b",
   "metadata": {
    "papermill": {
     "duration": 0.063667,
     "end_time": "2022-04-18T00:03:25.286247",
     "exception": false,
     "start_time": "2022-04-18T00:03:25.222580",
     "status": "completed"
    },
    "tags": []
   },
   "source": [
    "# I get a list of the null count for each column"
   ]
  },
  {
   "cell_type": "code",
   "execution_count": 13,
   "id": "b004f20e",
   "metadata": {
    "execution": {
     "iopub.execute_input": "2022-04-18T00:03:25.422064Z",
     "iopub.status.busy": "2022-04-18T00:03:25.421302Z",
     "iopub.status.idle": "2022-04-18T00:03:25.425221Z",
     "shell.execute_reply": "2022-04-18T00:03:25.424669Z",
     "shell.execute_reply.started": "2022-04-18T00:01:51.432751Z"
    },
    "papermill": {
     "duration": 0.075131,
     "end_time": "2022-04-18T00:03:25.425412",
     "exception": false,
     "start_time": "2022-04-18T00:03:25.350281",
     "status": "completed"
    },
    "tags": []
   },
   "outputs": [
    {
     "data": {
      "text/plain": [
       "long_hair                    0\n",
       "forehead_width_cm            0\n",
       "forehead_height_cm           0\n",
       "nose_wide                    0\n",
       "nose_long                    0\n",
       "lips_thin                    0\n",
       "distance_nose_to_lip_long    0\n",
       "gender                       0\n",
       "dtype: int64"
      ]
     },
     "execution_count": 13,
     "metadata": {},
     "output_type": "execute_result"
    }
   ],
   "source": [
    "data.isnull().sum()"
   ]
  },
  {
   "cell_type": "markdown",
   "id": "77691810",
   "metadata": {
    "papermill": {
     "duration": 0.060799,
     "end_time": "2022-04-18T00:03:25.547464",
     "exception": false,
     "start_time": "2022-04-18T00:03:25.486665",
     "status": "completed"
    },
    "tags": []
   },
   "source": [
    "# data splitting"
   ]
  },
  {
   "cell_type": "code",
   "execution_count": 14,
   "id": "d95375b0",
   "metadata": {
    "execution": {
     "iopub.execute_input": "2022-04-18T00:03:25.676756Z",
     "iopub.status.busy": "2022-04-18T00:03:25.672553Z",
     "iopub.status.idle": "2022-04-18T00:03:25.680765Z",
     "shell.execute_reply": "2022-04-18T00:03:25.680128Z",
     "shell.execute_reply.started": "2022-04-18T00:01:51.457435Z"
    },
    "papermill": {
     "duration": 0.0722,
     "end_time": "2022-04-18T00:03:25.680930",
     "exception": false,
     "start_time": "2022-04-18T00:03:25.608730",
     "status": "completed"
    },
    "tags": []
   },
   "outputs": [],
   "source": [
    "X = data[['long_hair', 'forehead_width_cm', 'forehead_height_cm', 'nose_wide',\n",
    "       'nose_long', 'lips_thin', 'distance_nose_to_lip_long']]\n",
    "y=data[['gender']]"
   ]
  },
  {
   "cell_type": "markdown",
   "id": "277838ad",
   "metadata": {
    "papermill": {
     "duration": 0.060614,
     "end_time": "2022-04-18T00:03:25.803086",
     "exception": false,
     "start_time": "2022-04-18T00:03:25.742472",
     "status": "completed"
    },
    "tags": []
   },
   "source": [
    "# Convert categorical variable into dummy/indicator variables.\n",
    "\n"
   ]
  },
  {
   "cell_type": "code",
   "execution_count": 15,
   "id": "e887cd81",
   "metadata": {
    "execution": {
     "iopub.execute_input": "2022-04-18T00:03:25.930941Z",
     "iopub.status.busy": "2022-04-18T00:03:25.930181Z",
     "iopub.status.idle": "2022-04-18T00:03:25.942974Z",
     "shell.execute_reply": "2022-04-18T00:03:25.943574Z",
     "shell.execute_reply.started": "2022-04-18T00:01:51.514532Z"
    },
    "papermill": {
     "duration": 0.0799,
     "end_time": "2022-04-18T00:03:25.943780",
     "exception": false,
     "start_time": "2022-04-18T00:03:25.863880",
     "status": "completed"
    },
    "tags": []
   },
   "outputs": [
    {
     "data": {
      "text/html": [
       "<div>\n",
       "<style scoped>\n",
       "    .dataframe tbody tr th:only-of-type {\n",
       "        vertical-align: middle;\n",
       "    }\n",
       "\n",
       "    .dataframe tbody tr th {\n",
       "        vertical-align: top;\n",
       "    }\n",
       "\n",
       "    .dataframe thead th {\n",
       "        text-align: right;\n",
       "    }\n",
       "</style>\n",
       "<table border=\"1\" class=\"dataframe\">\n",
       "  <thead>\n",
       "    <tr style=\"text-align: right;\">\n",
       "      <th></th>\n",
       "      <th>gender_Female</th>\n",
       "      <th>gender_Male</th>\n",
       "    </tr>\n",
       "  </thead>\n",
       "  <tbody>\n",
       "    <tr>\n",
       "      <th>0</th>\n",
       "      <td>0</td>\n",
       "      <td>1</td>\n",
       "    </tr>\n",
       "    <tr>\n",
       "      <th>1</th>\n",
       "      <td>1</td>\n",
       "      <td>0</td>\n",
       "    </tr>\n",
       "    <tr>\n",
       "      <th>2</th>\n",
       "      <td>0</td>\n",
       "      <td>1</td>\n",
       "    </tr>\n",
       "    <tr>\n",
       "      <th>3</th>\n",
       "      <td>0</td>\n",
       "      <td>1</td>\n",
       "    </tr>\n",
       "    <tr>\n",
       "      <th>4</th>\n",
       "      <td>1</td>\n",
       "      <td>0</td>\n",
       "    </tr>\n",
       "  </tbody>\n",
       "</table>\n",
       "</div>"
      ],
      "text/plain": [
       "   gender_Female  gender_Male\n",
       "0              0            1\n",
       "1              1            0\n",
       "2              0            1\n",
       "3              0            1\n",
       "4              1            0"
      ]
     },
     "execution_count": 15,
     "metadata": {},
     "output_type": "execute_result"
    }
   ],
   "source": [
    "y=pd.get_dummies(y)\n",
    "y.head()"
   ]
  },
  {
   "cell_type": "markdown",
   "id": "435f85f4",
   "metadata": {
    "papermill": {
     "duration": 0.061705,
     "end_time": "2022-04-18T00:03:26.069149",
     "exception": false,
     "start_time": "2022-04-18T00:03:26.007444",
     "status": "completed"
    },
    "tags": []
   },
   "source": [
    "# returns a Series containing the counts of unique values."
   ]
  },
  {
   "cell_type": "code",
   "execution_count": 16,
   "id": "f879a4fd",
   "metadata": {
    "execution": {
     "iopub.execute_input": "2022-04-18T00:03:26.197908Z",
     "iopub.status.busy": "2022-04-18T00:03:26.197104Z",
     "iopub.status.idle": "2022-04-18T00:03:26.202225Z",
     "shell.execute_reply": "2022-04-18T00:03:26.202841Z",
     "shell.execute_reply.started": "2022-04-18T00:01:51.595778Z"
    },
    "papermill": {
     "duration": 0.071903,
     "end_time": "2022-04-18T00:03:26.203033",
     "exception": false,
     "start_time": "2022-04-18T00:03:26.131130",
     "status": "completed"
    },
    "tags": []
   },
   "outputs": [
    {
     "data": {
      "text/plain": [
       "Female    2501\n",
       "Male      2500\n",
       "Name: gender, dtype: int64"
      ]
     },
     "execution_count": 16,
     "metadata": {},
     "output_type": "execute_result"
    }
   ],
   "source": [
    "data['gender'].value_counts()\n"
   ]
  },
  {
   "cell_type": "markdown",
   "id": "88fb27f1",
   "metadata": {
    "papermill": {
     "duration": 0.062747,
     "end_time": "2022-04-18T00:03:26.328853",
     "exception": false,
     "start_time": "2022-04-18T00:03:26.266106",
     "status": "completed"
    },
    "tags": []
   },
   "source": [
    " # EDA (Exploratory Data Analysis)"
   ]
  },
  {
   "cell_type": "code",
   "execution_count": 17,
   "id": "07dbf552",
   "metadata": {
    "execution": {
     "iopub.execute_input": "2022-04-18T00:03:26.458673Z",
     "iopub.status.busy": "2022-04-18T00:03:26.457941Z",
     "iopub.status.idle": "2022-04-18T00:03:26.682366Z",
     "shell.execute_reply": "2022-04-18T00:03:26.681584Z",
     "shell.execute_reply.started": "2022-04-18T00:01:51.662235Z"
    },
    "papermill": {
     "duration": 0.291668,
     "end_time": "2022-04-18T00:03:26.682531",
     "exception": false,
     "start_time": "2022-04-18T00:03:26.390863",
     "status": "completed"
    },
    "tags": []
   },
   "outputs": [
    {
     "data": {
      "text/plain": [
       "<AxesSubplot:>"
      ]
     },
     "execution_count": 17,
     "metadata": {},
     "output_type": "execute_result"
    },
    {
     "data": {
      "image/png": "[encoded data removed]",
      "text/plain": [
       "<Figure size 432x288 with 1 Axes>"
      ]
     },
     "metadata": {
      "needs_background": "light"
     },
     "output_type": "display_data"
    }
   ],
   "source": [
    "data.gender.hist()"
   ]
  },
  {
   "cell_type": "markdown",
   "id": "508a1bb6",
   "metadata": {
    "papermill": {
     "duration": 0.064829,
     "end_time": "2022-04-18T00:03:26.812709",
     "exception": false,
     "start_time": "2022-04-18T00:03:26.747880",
     "status": "completed"
    },
    "tags": []
   },
   "source": [
    "# Variance selector caveats"
   ]
  },
  {
   "cell_type": "code",
   "execution_count": 18,
   "id": "e9f313a0",
   "metadata": {
    "execution": {
     "iopub.execute_input": "2022-04-18T00:03:27.157014Z",
     "iopub.status.busy": "2022-04-18T00:03:26.954094Z",
     "iopub.status.idle": "2022-04-18T00:03:27.483603Z",
     "shell.execute_reply": "2022-04-18T00:03:27.482792Z",
     "shell.execute_reply.started": "2022-04-18T00:01:51.884135Z"
    },
    "papermill": {
     "duration": 0.605102,
     "end_time": "2022-04-18T00:03:27.483759",
     "exception": false,
     "start_time": "2022-04-18T00:03:26.878657",
     "status": "completed"
    },
    "tags": []
   },
   "outputs": [
    {
     "data": {
      "text/plain": [
       "<AxesSubplot:>"
      ]
     },
     "execution_count": 18,
     "metadata": {},
     "output_type": "execute_result"
    },
    {
     "data": {
      "image/png": "[encoded data removed]",
      "text/plain": [
       "<Figure size 432x288 with 1 Axes>"
      ]
     },
     "metadata": {
      "needs_background": "light"
     },
     "output_type": "display_data"
    }
   ],
   "source": [
    "data.boxplot()"
   ]
  },
  {
   "cell_type": "markdown",
   "id": "8658aef5",
   "metadata": {
    "papermill": {
     "duration": 0.069907,
     "end_time": "2022-04-18T00:03:27.622177",
     "exception": false,
     "start_time": "2022-04-18T00:03:27.552270",
     "status": "completed"
    },
    "tags": []
   },
   "source": [
    "# visualization for y"
   ]
  },
  {
   "cell_type": "code",
   "execution_count": 19,
   "id": "295b2ed9",
   "metadata": {
    "execution": {
     "iopub.execute_input": "2022-04-18T00:03:27.761681Z",
     "iopub.status.busy": "2022-04-18T00:03:27.760917Z",
     "iopub.status.idle": "2022-04-18T00:03:29.146000Z",
     "shell.execute_reply": "2022-04-18T00:03:29.146559Z",
     "shell.execute_reply.started": "2022-04-18T00:01:52.374794Z"
    },
    "papermill": {
     "duration": 1.458906,
     "end_time": "2022-04-18T00:03:29.146750",
     "exception": false,
     "start_time": "2022-04-18T00:03:27.687844",
     "status": "completed"
    },
    "tags": []
   },
   "outputs": [
    {
     "data": {
      "image/png": "[encoded data removed]",
      "text/plain": [
       "<Figure size 1440x360 with 1 Axes>"
      ]
     },
     "metadata": {
      "needs_background": "light"
     },
     "output_type": "display_data"
    }
   ],
   "source": [
    "import matplotlib.pyplot as plt\n",
    "import seaborn as sns\n",
    "plt.figure(figsize=(20,5))\n",
    "plt.xticks(rotation=90)\n",
    "ax=sns.countplot(x=\"gender\", data=data)\n",
    "plt.show()\n"
   ]
  },
  {
   "cell_type": "code",
   "execution_count": 20,
   "id": "7b940d03",
   "metadata": {
    "execution": {
     "iopub.execute_input": "2022-04-18T00:03:29.303670Z",
     "iopub.status.busy": "2022-04-18T00:03:29.280199Z",
     "iopub.status.idle": "2022-04-18T00:03:29.413112Z",
     "shell.execute_reply": "2022-04-18T00:03:29.412326Z",
     "shell.execute_reply.started": "2022-04-18T00:01:53.584008Z"
    },
    "papermill": {
     "duration": 0.202012,
     "end_time": "2022-04-18T00:03:29.413293",
     "exception": false,
     "start_time": "2022-04-18T00:03:29.211281",
     "status": "completed"
    },
    "tags": []
   },
   "outputs": [
    {
     "data": {
      "image/png": "[encoded data removed]",
      "text/plain": [
       "<Figure size 1440x360 with 1 Axes>"
      ]
     },
     "metadata": {},
     "output_type": "display_data"
    }
   ],
   "source": [
    "targetCounts = data['gender'].value_counts()\n",
    "targetLabels = data['gender'].unique()\n",
    "plt.figure(figsize=(20,5))\n",
    "plt.pie(targetCounts, labels=targetLabels, autopct='%1.1f%%', shadow=True)\n",
    "plt.title(\"CATEGORY DISTRIBUTION\")\n",
    "plt.show()\n"
   ]
  },
  {
   "cell_type": "code",
   "execution_count": 21,
   "id": "a59b1286",
   "metadata": {
    "execution": {
     "iopub.execute_input": "2022-04-18T00:03:29.569845Z",
     "iopub.status.busy": "2022-04-18T00:03:29.569083Z",
     "iopub.status.idle": "2022-04-18T00:03:29.862747Z",
     "shell.execute_reply": "2022-04-18T00:03:29.862161Z",
     "shell.execute_reply.started": "2022-04-18T00:01:53.724516Z"
    },
    "papermill": {
     "duration": 0.36612,
     "end_time": "2022-04-18T00:03:29.862911",
     "exception": false,
     "start_time": "2022-04-18T00:03:29.496791",
     "status": "completed"
    },
    "tags": []
   },
   "outputs": [
    {
     "data": {
      "text/plain": [
       "<AxesSubplot:>"
      ]
     },
     "execution_count": 21,
     "metadata": {},
     "output_type": "execute_result"
    },
    {
     "data": {
      "image/png": "[encoded data removed]",
      "text/plain": [
       "<Figure size 432x288 with 2 Axes>"
      ]
     },
     "metadata": {
      "needs_background": "light"
     },
     "output_type": "display_data"
    }
   ],
   "source": [
    "sns.heatmap(data.corr())"
   ]
  },
  {
   "cell_type": "code",
   "execution_count": 22,
   "id": "9836a77d",
   "metadata": {
    "execution": {
     "iopub.execute_input": "2022-04-18T00:03:30.009222Z",
     "iopub.status.busy": "2022-04-18T00:03:30.008512Z",
     "iopub.status.idle": "2022-04-18T00:03:42.333126Z",
     "shell.execute_reply": "2022-04-18T00:03:42.333728Z",
     "shell.execute_reply.started": "2022-04-18T00:01:54.074244Z"
    },
    "papermill": {
     "duration": 12.402305,
     "end_time": "2022-04-18T00:03:42.333922",
     "exception": false,
     "start_time": "2022-04-18T00:03:29.931617",
     "status": "completed"
    },
    "tags": []
   },
   "outputs": [
    {
     "data": {
      "image/png": "[encoded data removed]",
      "text/plain": [
       "<Figure size 1260x1260 with 56 Axes>"
      ]
     },
     "metadata": {
      "needs_background": "light"
     },
     "output_type": "display_data"
    }
   ],
   "source": [
    "sns.pairplot(data);"
   ]
  },
  {
   "cell_type": "markdown",
   "id": "a9963785",
   "metadata": {
    "papermill": {
     "duration": 0.07352,
     "end_time": "2022-04-18T00:03:42.482451",
     "exception": false,
     "start_time": "2022-04-18T00:03:42.408931",
     "status": "completed"
    },
    "tags": []
   },
   "source": [
    "# Model building starts"
   ]
  },
  {
   "cell_type": "code",
   "execution_count": 23,
   "id": "4b9424db",
   "metadata": {
    "execution": {
     "iopub.execute_input": "2022-04-18T00:03:42.642282Z",
     "iopub.status.busy": "2022-04-18T00:03:42.641535Z",
     "iopub.status.idle": "2022-04-18T00:03:42.903097Z",
     "shell.execute_reply": "2022-04-18T00:03:42.903691Z",
     "shell.execute_reply.started": "2022-04-18T00:02:06.897207Z"
    },
    "papermill": {
     "duration": 0.344116,
     "end_time": "2022-04-18T00:03:42.903890",
     "exception": false,
     "start_time": "2022-04-18T00:03:42.559774",
     "status": "completed"
    },
    "tags": []
   },
   "outputs": [],
   "source": [
    "from sklearn.model_selection import train_test_split\n",
    "X_train,X_test,y_train,y_test=train_test_split(X,y,test_size=0.2,random_state=40)"
   ]
  },
  {
   "cell_type": "markdown",
   "id": "8bca1efe",
   "metadata": {
    "papermill": {
     "duration": 0.073737,
     "end_time": "2022-04-18T00:03:43.053953",
     "exception": false,
     "start_time": "2022-04-18T00:03:42.980216",
     "status": "completed"
    },
    "tags": []
   },
   "source": [
    "# Applying DecisionTreeClassifier Model "
   ]
  },
  {
   "cell_type": "code",
   "execution_count": 24,
   "id": "24f1aef9",
   "metadata": {
    "execution": {
     "iopub.execute_input": "2022-04-18T00:03:43.208564Z",
     "iopub.status.busy": "2022-04-18T00:03:43.207856Z",
     "iopub.status.idle": "2022-04-18T00:03:43.440996Z",
     "shell.execute_reply": "2022-04-18T00:03:43.441571Z",
     "shell.execute_reply.started": "2022-04-18T00:02:07.086150Z"
    },
    "papermill": {
     "duration": 0.314847,
     "end_time": "2022-04-18T00:03:43.441744",
     "exception": false,
     "start_time": "2022-04-18T00:03:43.126897",
     "status": "completed"
    },
    "tags": []
   },
   "outputs": [
    {
     "name": "stdout",
     "output_type": "stream",
     "text": [
      "the score of train 0.99125\n",
      "the score of test 0.954045954045954\n",
      "Decision Tree Classifier Model Classes are :  [array([0, 1], dtype=uint8), array([0, 1], dtype=uint8)]\n",
      "Decision Tree Classifier Model feature importances are :  [0.00318877 0.04675882 0.03836297 0.15945502 0.07918226 0.08671882\n",
      " 0.58633335]\n",
      "Accuracy Score for DecisionTreeClassifier is :  955\n"
     ]
    }
   ],
   "source": [
    "from sklearn.tree import DecisionTreeClassifier\n",
    "DecisionTreeClassifier_model=DecisionTreeClassifier(criterion='gini', max_depth=10,min_samples_split=2,random_state=40)\n",
    "DecisionTreeClassifier_model.fit(X_train,y_train)\n",
    "#Calculating Prediction\n",
    "y_pred_rfr = DecisionTreeClassifier_model.predict(X_test)\n",
    "#Calculating Score for train and test\n",
    "print('the score of train {}'.format(DecisionTreeClassifier_model.score(X_train, y_train)))\n",
    "#Calculating Score for train and test\n",
    "print('the score of test {}'.format(DecisionTreeClassifier_model.score(X_test, y_test)))\n",
    "print('Decision Tree Classifier Model Classes are : ' , DecisionTreeClassifier_model.classes_)\n",
    "print('Decision Tree Classifier Model feature importances are : ' , DecisionTreeClassifier_model.feature_importances_)                                               \n",
    "#Calculating Accuracy Score \n",
    "from sklearn.metrics import accuracy_score\n",
    "DecisionTreeClassifierModel = accuracy_score(y_test, y_pred_rfr, normalize=False)\n",
    "print('Accuracy Score for DecisionTreeClassifier is : ', DecisionTreeClassifierModel)"
   ]
  },
  {
   "cell_type": "markdown",
   "id": "0e101e2f",
   "metadata": {
    "papermill": {
     "duration": 0.073701,
     "end_time": "2022-04-18T00:03:43.588565",
     "exception": false,
     "start_time": "2022-04-18T00:03:43.514864",
     "status": "completed"
    },
    "tags": []
   },
   "source": [
    "# Applying KNeighborsClassifier Model "
   ]
  },
  {
   "cell_type": "code",
   "execution_count": 25,
   "id": "661ecdd5",
   "metadata": {
    "execution": {
     "iopub.execute_input": "2022-04-18T00:03:43.745026Z",
     "iopub.status.busy": "2022-04-18T00:03:43.744050Z",
     "iopub.status.idle": "2022-04-18T00:03:43.924975Z",
     "shell.execute_reply": "2022-04-18T00:03:43.925520Z",
     "shell.execute_reply.started": "2022-04-18T00:02:07.266967Z"
    },
    "papermill": {
     "duration": 0.263834,
     "end_time": "2022-04-18T00:03:43.925708",
     "exception": false,
     "start_time": "2022-04-18T00:03:43.661874",
     "status": "completed"
    },
    "tags": []
   },
   "outputs": [
    {
     "name": "stdout",
     "output_type": "stream",
     "text": [
      "the score for train 0.99725\n",
      "the score for test 0.957042957042957\n",
      "KNeighborsClassifier Classes are :  [array([0, 1], dtype=uint8), array([0, 1], dtype=uint8)]\n",
      "Accuracy Score for KNeighborsClassifier is :  958\n"
     ]
    }
   ],
   "source": [
    "from sklearn.neighbors import KNeighborsClassifier\n",
    "KNeighborsClassifier_model=KNeighborsClassifier(n_neighbors=6, weights='distance', algorithm='auto')\n",
    "KNeighborsClassifier_model.fit(X_train,y_train)\n",
    "#Calculating Prediction\n",
    "y_pred_rfr = KNeighborsClassifier_model.predict(X_test)\n",
    "#Calculating Score for train and test\n",
    "print('the score for train {}'.format(KNeighborsClassifier_model.score(X_train, y_train)))\n",
    "#Calculating Score for train and test\n",
    "print('the score for test {}'.format(KNeighborsClassifier_model.score(X_test, y_test)))\n",
    "print('KNeighborsClassifier Classes are : ' , KNeighborsClassifier_model.classes_)\n",
    "#Calculating Accuracy Score \n",
    "from sklearn.metrics import accuracy_score\n",
    "KNeighborsClassifierModel= accuracy_score(y_test, y_pred_rfr, normalize=False)\n",
    "print('Accuracy Score for KNeighborsClassifier is : ', KNeighborsClassifierModel)"
   ]
  },
  {
   "cell_type": "markdown",
   "id": "711bd59e",
   "metadata": {
    "papermill": {
     "duration": 0.074005,
     "end_time": "2022-04-18T00:03:44.075134",
     "exception": false,
     "start_time": "2022-04-18T00:03:44.001129",
     "status": "completed"
    },
    "tags": []
   },
   "source": []
  },
  {
   "cell_type": "markdown",
   "id": "493b2845",
   "metadata": {
    "papermill": {
     "duration": 0.077668,
     "end_time": "2022-04-18T00:03:44.228269",
     "exception": false,
     "start_time": "2022-04-18T00:03:44.150601",
     "status": "completed"
    },
    "tags": []
   },
   "source": [
    "# Calculating classification_report"
   ]
  },
  {
   "cell_type": "markdown",
   "id": "3853ebdd",
   "metadata": {
    "papermill": {
     "duration": 0.076818,
     "end_time": "2022-04-18T00:03:44.384843",
     "exception": false,
     "start_time": "2022-04-18T00:03:44.308025",
     "status": "completed"
    },
    "tags": []
   },
   "source": []
  },
  {
   "cell_type": "code",
   "execution_count": 26,
   "id": "ce69d9c6",
   "metadata": {
    "execution": {
     "iopub.execute_input": "2022-04-18T00:03:44.542497Z",
     "iopub.status.busy": "2022-04-18T00:03:44.541694Z",
     "iopub.status.idle": "2022-04-18T00:03:44.557486Z",
     "shell.execute_reply": "2022-04-18T00:03:44.558114Z",
     "shell.execute_reply.started": "2022-04-18T00:02:45.301489Z"
    },
    "papermill": {
     "duration": 0.097659,
     "end_time": "2022-04-18T00:03:44.558373",
     "exception": false,
     "start_time": "2022-04-18T00:03:44.460714",
     "status": "completed"
    },
    "tags": []
   },
   "outputs": [
    {
     "name": "stdout",
     "output_type": "stream",
     "text": [
      "              precision    recall  f1-score   support\n",
      "\n",
      "           0       0.95      0.96      0.96       504\n",
      "           1       0.96      0.95      0.96       497\n",
      "\n",
      "   micro avg       0.96      0.96      0.96      1001\n",
      "   macro avg       0.96      0.96      0.96      1001\n",
      "weighted avg       0.96      0.96      0.96      1001\n",
      " samples avg       0.96      0.96      0.96      1001\n",
      "\n"
     ]
    }
   ],
   "source": [
    "from sklearn.metrics import classification_report\n",
    "print(classification_report(y_test, y_pred_rfr))"
   ]
  },
  {
   "cell_type": "markdown",
   "id": "84d2eed3",
   "metadata": {
    "papermill": {
     "duration": 0.076223,
     "end_time": "2022-04-18T00:03:44.712113",
     "exception": false,
     "start_time": "2022-04-18T00:03:44.635890",
     "status": "completed"
    },
    "tags": []
   },
   "source": []
  }
 ],
 "metadata": {
  "kernelspec": {
   "display_name": "Python 3",
   "language": "python",
   "name": "python3"
  },
  "language_info": {
   "codemirror_mode": {
    "name": "ipython",
    "version": 3
   },
   "file_extension": ".py",
   "mimetype": "text/x-python",
   "name": "python",
   "nbconvert_exporter": "python",
   "pygments_lexer": "ipython3",
   "version": "3.7.12"
  },
  "papermill": {
   "default_parameters": {},
   "duration": 37.569443,
   "end_time": "2022-04-18T00:03:46.104920",
   "environment_variables": {},
   "exception": null,
   "input_path": "__notebook__.ipynb",
   "output_path": "__notebook__.ipynb",
   "parameters": {},
   "start_time": "2022-04-18T00:03:08.535477",
   "version": "2.3.3"
  }
 },
 "nbformat": 4,
 "nbformat_minor": 5
}
